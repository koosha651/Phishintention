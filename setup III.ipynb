{
 "cells": [
  {
   "cell_type": "code",
   "execution_count": 3,
   "id": "8268fa5a",
   "metadata": {},
   "outputs": [],
   "source": [
    "import torch\n",
    "import cv2\n",
    "import os\n",
    "from detectron2.config import get_cfg\n",
    "from detectron2.engine import DefaultPredictor\n",
    "from detectron2.utils.visualizer import Visualizer\n",
    "from detectron2.structures import Boxes\n"
   ]
  },
  {
   "cell_type": "code",
   "execution_count": 2,
   "id": "05965b3a",
   "metadata": {},
   "outputs": [],
   "source": [
    "\n",
    "def setup_layout_detector(cfg_path, weights_path, conf_threshold=0.3):\n",
    "    \"\"\"\n",
    "    Set up the Faster R-CNN layout detector with Detectron2.\n",
    "    :param cfg_path: Path to the YAML configuration file.\n",
    "    :param weights_path: Path to the pre-trained weights file.\n",
    "    :param conf_threshold: Confidence threshold for detections.\n",
    "    :return: A Detectron2 DefaultPredictor instance.\n",
    "    \"\"\"\n",
    "    cfg = get_cfg()\n",
    "    cfg.merge_from_file(cfg_path)\n",
    "    cfg.MODEL.WEIGHTS = weights_path\n",
    "    cfg.MODEL.ROI_HEADS.SCORE_THRESH_TEST = conf_threshold\n",
    "    cfg.MODEL.DEVICE = 'cuda' if torch.cuda.is_available() else 'cpu'\n",
    "    return DefaultPredictor(cfg)\n",
    "\n",
    "def predict_image(image_path, predictor):\n",
    "    \"\"\"\n",
    "    Run inference on a given image using the layout detector.\n",
    "    :param image_path: Path to the input image.\n",
    "    :param predictor: Detectron2 DefaultPredictor instance.\n",
    "    :return: Tuple (pred_boxes, pred_classes).\n",
    "    \"\"\"\n",
    "    im = cv2.imread(image_path)\n",
    "    if im is None:\n",
    "        raise FileNotFoundError(f\"Image at {image_path} not found.\")\n",
    "    \n",
    "    outputs = predictor(im)\n",
    "    instances = outputs[\"instances\"]\n",
    "    pred_boxes = instances.pred_boxes.tensor.cpu().numpy()\n",
    "    pred_classes = instances.pred_classes.cpu().numpy()\n",
    "    return pred_boxes, pred_classes\n",
    "\n",
    "def vis(image_path, pred_boxes, pred_classes, output_path):\n",
    "    \"\"\"\n",
    "    Visualize predictions and save the annotated image as a PNG file.\n",
    "    :param image_path: Path to the original image.\n",
    "    :param pred_boxes: Array of predicted bounding boxes.\n",
    "    :param pred_classes: Array of predicted class indices.\n",
    "    :param output_path: Path to save the annotated image.\n",
    "    \"\"\"\n",
    "    class_dict = {0: \"logo\", 1: \"input\", 2: \"button\", 3: \"label\", 4: \"block\"}  # Update class labels as needed\n",
    "    im = cv2.imread(image_path)\n",
    "    if im is None:\n",
    "        raise FileNotFoundError(f\"Image at {image_path} not found.\")\n",
    "    \n",
    "    # Initialize the visualizer\n",
    "    visualizer = Visualizer(im[:, :, ::-1], scale=1.2)\n",
    "    labels = [class_dict.get(cls, f\"Class {cls}\") for cls in pred_classes]\n",
    "    annotated_im = visualizer.overlay_instances(\n",
    "        boxes=Boxes(pred_boxes), labels=labels\n",
    "    ).get_image()\n",
    "\n",
    "    # Save the annotated image\n",
    "    cv2.imwrite(output_path, annotated_im[:, :, ::-1])\n",
    "    print(f\"Visualization saved at: {output_path}\")\n"
   ]
  },
  {
   "cell_type": "code",
   "execution_count": 4,
   "id": "d430007f",
   "metadata": {},
   "outputs": [
    {
     "name": "stderr",
     "output_type": "stream",
     "text": [
      "Config 'faster_rcnn_web.yaml' has no VERSION. Assuming it to be compatible with latest v2.\n",
      "The checkpoint state_dict contains keys that are not used by the model:\n",
      "  \u001b[35mpixel_mean\u001b[0m\n",
      "  \u001b[35mpixel_std\u001b[0m\n"
     ]
    },
    {
     "name": "stdout",
     "output_type": "stream",
     "text": [
      "Running inference...\n",
      "Detected Boxes:\n",
      "[[  33.88331      3.2002234  511.58066    138.9013   ]\n",
      " [1932.86       268.82523   2069.9487     348.05768  ]\n",
      " [ 990.05273    272.19006   1862.5286     347.1824   ]\n",
      " [  16.412138   608.4681    1500.4865     688.3149   ]\n",
      " [  30.73153    361.14218    505.37436    452.51486  ]\n",
      " [  37.12949    270.08264    893.3168     346.99707  ]\n",
      " [  31.932842   202.7868     526.45355    256.99435  ]\n",
      " [ 842.10645    276.02762    907.5118     339.47083  ]\n",
      " [  18.453646   459.5318     530.69006    524.647    ]]\n",
      "Detected Classes:\n",
      "[0 2 1 4 2 1 4 2 2]\n",
      "Visualizing predictions...\n",
      "Visualization saved at: annotated_image.png\n"
     ]
    }
   ],
   "source": [
    "\n",
    "if __name__ == \"__main__\":\n",
    "    # Define paths\n",
    "    cfg_path = \"faster_rcnn_web.yaml\"  # Update to your YAML configuration path\n",
    "    weights_path = \"layout_detector.pth\"  # Update to your model weights path\n",
    "    test_image_path = \"shot.png\"  # Update to your test image path\n",
    "    output_image_path = \"annotated_image.png\"  # Path to save the annotated image\n",
    "\n",
    "    # Initialize the layout detector\n",
    "    predictor = setup_layout_detector(cfg_path, weights_path, conf_threshold=0.3)\n",
    "\n",
    "    # Run inference on the test image\n",
    "    print(\"Running inference...\")\n",
    "    pred_boxes, pred_classes = predict_image(test_image_path, predictor)\n",
    "    print(f\"Detected Boxes:\\n{pred_boxes}\")\n",
    "    print(f\"Detected Classes:\\n{pred_classes}\")\n",
    "\n",
    "    # Visualize predictions\n",
    "    print(\"Visualizing predictions...\")\n",
    "    vis(test_image_path, pred_boxes, pred_classes, output_image_path)\n"
   ]
  },
  {
   "cell_type": "code",
   "execution_count": null,
   "id": "b7c7d99b",
   "metadata": {},
   "outputs": [],
   "source": []
  }
 ],
 "metadata": {
  "kernelspec": {
   "display_name": "Python 3 (ipykernel)",
   "language": "python",
   "name": "python3"
  },
  "language_info": {
   "codemirror_mode": {
    "name": "ipython",
    "version": 3
   },
   "file_extension": ".py",
   "mimetype": "text/x-python",
   "name": "python",
   "nbconvert_exporter": "python",
   "pygments_lexer": "ipython3",
   "version": "3.11.5"
  }
 },
 "nbformat": 4,
 "nbformat_minor": 5
}
